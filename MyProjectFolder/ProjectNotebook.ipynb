{
 "cells": [
  {
   "cell_type": "markdown",
   "metadata": {},
   "source": [
    "# Project Description"
   ]
  },
  {
   "cell_type": "markdown",
   "metadata": {},
   "source": [
    "Write a brief description of your project here. \n",
    "\n",
    "Note that projects should be self-sufficient, so make sure to provide enough information and context here for someone to understand what you are doing in your project, and why. "
   ]
  },
  {
   "cell_type": "markdown",
   "metadata": {},
   "source": [
    "For my project I initially wanted to code a program that would help me make decisions while regarding baking. With all the baking I am doing while in quarantine, I managed to pinpoint some of the larger problems that arise, such as determining weight and changing serving sizes. I found that the weight of ingredients differs according to what it is, which can be confusing at times. To prevent me from again adding 40 grams of butter instead of 120 grams for a craquelin choux crust, I decided on a weight convertor to change weights. I only have a scale at home, makes it difficult for situations like when a recipe calls for a cup of solid butter, so I hope this will make it easier in the future. I decided on the 3 most commonly used units, which are cups, grams, and ounces. I decided to create a program that would allow me to convert between the three. The ingredients I chose to convert in this project are the most common ingredients in baking, which will make it easy to get a rough estimate of weight in any future baking ventures. I created separate functions for each ingredient, then created a function that would check the ingredient so that the corresponding function would run. Since baking also requires changing of portion sizes sometimes, I also created a class that will allow me adjust servings according to what ingredient I put into the convertor if I wanted to. "
   ]
  },
  {
   "cell_type": "markdown",
   "metadata": {},
   "source": [
    "## Project Code\n",
    "\n",
    "If it makes sense for your project, you can have code and outputs here in the notebook as well."
   ]
  },
  {
   "cell_type": "code",
   "execution_count": 5,
   "metadata": {},
   "outputs": [],
   "source": [
    "from my_module.functions import flour_convertor, cocoa_convertor, bsugar_convertor, isugar_convertor, sugar_convertor, butter_convertor, check_convertor, PortionChange"
   ]
  },
  {
   "cell_type": "code",
   "execution_count": 6,
   "metadata": {
    "scrolled": false
   },
   "outputs": [
    {
     "name": "stdout",
     "output_type": "stream",
     "text": [
      "What ingredient would you like to convert?\n",
      "flour\n",
      "You may proceed\n",
      "From what unit are you converting?\n",
      "grams\n",
      "This can be converted.\n",
      "To what unit are you converting?\n",
      "ounces\n",
      "This can be converted to.\n",
      "How much are you converting\n",
      "30\n",
      "30.0 grams is equal to 1.0 ounces\n",
      "Do you want to change portions? (y/n)\n",
      "y\n",
      "How many servings is the original?\n",
      "2\n",
      "How many servings do you want?\n",
      "5\n",
      "Enter converted value provided earlier.\n",
      "1\n",
      "\n",
      "Actual amount: 2.5\n"
     ]
    }
   ],
   "source": [
    "#these are the lists containing the ingredients and units that can be converted\n",
    "ingredients_list = ['flour', 'sugar', 'cocoa', 'brown sugar', 'icing sugar', 'butter', 'liquid']\n",
    "unit_list = ['cups', 'ounces', 'grams']\n",
    "\n",
    "#allows user to input desired values from lists above for ingredients and units, and the desired volume of ingredient to be converted\n",
    "\n",
    "print('What ingredient would you like to convert?') \n",
    "ingredient = input()\n",
    "\n",
    "if ingredient in ingredients_list:\n",
    "    print('You may proceed')\n",
    "else:\n",
    "    print('This ingredient cannot be converted right now.')\n",
    "    \n",
    "\n",
    "print('From what unit are you converting?') \n",
    "from_unit = input()\n",
    "\n",
    "if from_unit in unit_list:\n",
    "    print('This can be converted.')\n",
    "else:\n",
    "    print('This unit cannot be converted right now.')\n",
    "\n",
    "\n",
    "print('To what unit are you converting?')\n",
    "to_unit = input()\n",
    "\n",
    "if to_unit in unit_list:\n",
    "    print('This can be converted to.')\n",
    "else:\n",
    "    print('This unit cannot be converted to right now.')\n",
    "    \n",
    "    \n",
    "print('How much are you converting')\n",
    "volume = float(input())\n",
    "\n",
    "\n",
    "#runs the function that checks the input ingredient to run the correct convertor function\n",
    "check_convertor(ingredient, from_unit, to_unit, volume)\n",
    "\n",
    "\n",
    "#asks user if ingredient portion needs to be changed\n",
    "print('Do you want to change portions? (y/n)')\n",
    "answer = input()\n",
    "\n",
    "#if answer to above is 'y', then below if loop runs to change portions using class PortionChange\n",
    "if answer == 'y':\n",
    "    print('How many servings is the original?')\n",
    "    initial_servings = float(input())\n",
    "    print('How many servings do you want?')\n",
    "    desired_servings = float(input())\n",
    "    print('Enter converted value provided earlier.')\n",
    "    converted_value = float(input())\n",
    "    print('')\n",
    "    x = PortionChange(initial_servings, desired_servings)\n",
    "    x.change_portions(converted_value)\n",
    "else:\n",
    "    print('done')\n"
   ]
  },
  {
   "cell_type": "markdown",
   "metadata": {
    "collapsed": true
   },
   "source": [
    "Extra Credit: I put my project up on Github. "
   ]
  }
 ],
 "metadata": {
  "kernelspec": {
   "display_name": "Python 3",
   "language": "python",
   "name": "python3"
  },
  "language_info": {
   "codemirror_mode": {
    "name": "ipython",
    "version": 3
   },
   "file_extension": ".py",
   "mimetype": "text/x-python",
   "name": "python",
   "nbconvert_exporter": "python",
   "pygments_lexer": "ipython3",
   "version": "3.7.6"
  }
 },
 "nbformat": 4,
 "nbformat_minor": 2
}
